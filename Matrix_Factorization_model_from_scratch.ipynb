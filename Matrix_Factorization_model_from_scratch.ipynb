{
  "nbformat": 4,
  "nbformat_minor": 0,
  "metadata": {
    "colab": {
      "provenance": [],
      "collapsed_sections": []
    },
    "kernelspec": {
      "name": "python3",
      "display_name": "Python 3"
    },
    "language_info": {
      "name": "python"
    }
  },
  "cells": [
    {
      "cell_type": "code",
      "execution_count": null,
      "metadata": {
        "id": "NDjq1Gxi13DF"
      },
      "outputs": [],
      "source": [
        "import numpy as np\n",
        "import pandas as pd\n",
        "import matplotlib.pyplot as plt\n",
        "import seaborn as sns\n",
        "from urllib.request import urlretrieve\n",
        "import zipfile\n",
        "# import utilities as utl"
      ]
    },
    {
      "cell_type": "code",
      "source": [
        "urlretrieve(\"http://files.grouplens.org/datasets/movielens/ml-100k.zip\", \"ml-100k.zip\")\n",
        "zip_ref = zipfile.ZipFile(\"ml-100k.zip\", \"r\")\n",
        "zip_ref.extractall()\n",
        "print(\"Done. Dataset contains:\")\n",
        "print(zip_ref.read('ml-100k/u.info'))"
      ],
      "metadata": {
        "colab": {
          "base_uri": "https://localhost:8080/"
        },
        "id": "jFyQRksIOQBr",
        "outputId": "232501ce-83f9-4655-9818-f705c5993979"
      },
      "execution_count": null,
      "outputs": [
        {
          "output_type": "stream",
          "name": "stdout",
          "text": [
            "Done. Dataset contains:\n",
            "b'943 users\\n1682 items\\n100000 ratings\\n'\n"
          ]
        }
      ]
    },
    {
      "cell_type": "markdown",
      "source": [
        "### **Users**"
      ],
      "metadata": {
        "id": "dq7f2ce7ak7e"
      }
    },
    {
      "cell_type": "code",
      "source": [
        "# Read dataset\n",
        "users = pd.read_csv('ml-100k/u.user', sep='|', header=None, encoding='latin-1')\n",
        "\n",
        "# Columns describing user characteristics\n",
        "users.columns = ['Index', 'Age', 'Gender', 'Occupation', 'Zip code']\n",
        "\n",
        "# Quick overview\n",
        "users.head()"
      ],
      "metadata": {
        "id": "V8Cn2CtARcNc",
        "colab": {
          "base_uri": "https://localhost:8080/",
          "height": 206
        },
        "outputId": "4dacbce0-b23e-4d18-cfa3-5c8ae7fb2667"
      },
      "execution_count": null,
      "outputs": [
        {
          "output_type": "execute_result",
          "data": {
            "text/plain": [
              "   Index  Age Gender  Occupation Zip code\n",
              "0      1   24      M  technician    85711\n",
              "1      2   53      F       other    94043\n",
              "2      3   23      M      writer    32067\n",
              "3      4   24      M  technician    43537\n",
              "4      5   33      F       other    15213"
            ],
            "text/html": [
              "\n",
              "  <div id=\"df-b94aa52c-c12c-4ade-befd-24ced8351568\">\n",
              "    <div class=\"colab-df-container\">\n",
              "      <div>\n",
              "<style scoped>\n",
              "    .dataframe tbody tr th:only-of-type {\n",
              "        vertical-align: middle;\n",
              "    }\n",
              "\n",
              "    .dataframe tbody tr th {\n",
              "        vertical-align: top;\n",
              "    }\n",
              "\n",
              "    .dataframe thead th {\n",
              "        text-align: right;\n",
              "    }\n",
              "</style>\n",
              "<table border=\"1\" class=\"dataframe\">\n",
              "  <thead>\n",
              "    <tr style=\"text-align: right;\">\n",
              "      <th></th>\n",
              "      <th>Index</th>\n",
              "      <th>Age</th>\n",
              "      <th>Gender</th>\n",
              "      <th>Occupation</th>\n",
              "      <th>Zip code</th>\n",
              "    </tr>\n",
              "  </thead>\n",
              "  <tbody>\n",
              "    <tr>\n",
              "      <th>0</th>\n",
              "      <td>1</td>\n",
              "      <td>24</td>\n",
              "      <td>M</td>\n",
              "      <td>technician</td>\n",
              "      <td>85711</td>\n",
              "    </tr>\n",
              "    <tr>\n",
              "      <th>1</th>\n",
              "      <td>2</td>\n",
              "      <td>53</td>\n",
              "      <td>F</td>\n",
              "      <td>other</td>\n",
              "      <td>94043</td>\n",
              "    </tr>\n",
              "    <tr>\n",
              "      <th>2</th>\n",
              "      <td>3</td>\n",
              "      <td>23</td>\n",
              "      <td>M</td>\n",
              "      <td>writer</td>\n",
              "      <td>32067</td>\n",
              "    </tr>\n",
              "    <tr>\n",
              "      <th>3</th>\n",
              "      <td>4</td>\n",
              "      <td>24</td>\n",
              "      <td>M</td>\n",
              "      <td>technician</td>\n",
              "      <td>43537</td>\n",
              "    </tr>\n",
              "    <tr>\n",
              "      <th>4</th>\n",
              "      <td>5</td>\n",
              "      <td>33</td>\n",
              "      <td>F</td>\n",
              "      <td>other</td>\n",
              "      <td>15213</td>\n",
              "    </tr>\n",
              "  </tbody>\n",
              "</table>\n",
              "</div>\n",
              "      <button class=\"colab-df-convert\" onclick=\"convertToInteractive('df-b94aa52c-c12c-4ade-befd-24ced8351568')\"\n",
              "              title=\"Convert this dataframe to an interactive table.\"\n",
              "              style=\"display:none;\">\n",
              "        \n",
              "  <svg xmlns=\"http://www.w3.org/2000/svg\" height=\"24px\"viewBox=\"0 0 24 24\"\n",
              "       width=\"24px\">\n",
              "    <path d=\"M0 0h24v24H0V0z\" fill=\"none\"/>\n",
              "    <path d=\"M18.56 5.44l.94 2.06.94-2.06 2.06-.94-2.06-.94-.94-2.06-.94 2.06-2.06.94zm-11 1L8.5 8.5l.94-2.06 2.06-.94-2.06-.94L8.5 2.5l-.94 2.06-2.06.94zm10 10l.94 2.06.94-2.06 2.06-.94-2.06-.94-.94-2.06-.94 2.06-2.06.94z\"/><path d=\"M17.41 7.96l-1.37-1.37c-.4-.4-.92-.59-1.43-.59-.52 0-1.04.2-1.43.59L10.3 9.45l-7.72 7.72c-.78.78-.78 2.05 0 2.83L4 21.41c.39.39.9.59 1.41.59.51 0 1.02-.2 1.41-.59l7.78-7.78 2.81-2.81c.8-.78.8-2.07 0-2.86zM5.41 20L4 18.59l7.72-7.72 1.47 1.35L5.41 20z\"/>\n",
              "  </svg>\n",
              "      </button>\n",
              "      \n",
              "  <style>\n",
              "    .colab-df-container {\n",
              "      display:flex;\n",
              "      flex-wrap:wrap;\n",
              "      gap: 12px;\n",
              "    }\n",
              "\n",
              "    .colab-df-convert {\n",
              "      background-color: #E8F0FE;\n",
              "      border: none;\n",
              "      border-radius: 50%;\n",
              "      cursor: pointer;\n",
              "      display: none;\n",
              "      fill: #1967D2;\n",
              "      height: 32px;\n",
              "      padding: 0 0 0 0;\n",
              "      width: 32px;\n",
              "    }\n",
              "\n",
              "    .colab-df-convert:hover {\n",
              "      background-color: #E2EBFA;\n",
              "      box-shadow: 0px 1px 2px rgba(60, 64, 67, 0.3), 0px 1px 3px 1px rgba(60, 64, 67, 0.15);\n",
              "      fill: #174EA6;\n",
              "    }\n",
              "\n",
              "    [theme=dark] .colab-df-convert {\n",
              "      background-color: #3B4455;\n",
              "      fill: #D2E3FC;\n",
              "    }\n",
              "\n",
              "    [theme=dark] .colab-df-convert:hover {\n",
              "      background-color: #434B5C;\n",
              "      box-shadow: 0px 1px 3px 1px rgba(0, 0, 0, 0.15);\n",
              "      filter: drop-shadow(0px 1px 2px rgba(0, 0, 0, 0.3));\n",
              "      fill: #FFFFFF;\n",
              "    }\n",
              "  </style>\n",
              "\n",
              "      <script>\n",
              "        const buttonEl =\n",
              "          document.querySelector('#df-b94aa52c-c12c-4ade-befd-24ced8351568 button.colab-df-convert');\n",
              "        buttonEl.style.display =\n",
              "          google.colab.kernel.accessAllowed ? 'block' : 'none';\n",
              "\n",
              "        async function convertToInteractive(key) {\n",
              "          const element = document.querySelector('#df-b94aa52c-c12c-4ade-befd-24ced8351568');\n",
              "          const dataTable =\n",
              "            await google.colab.kernel.invokeFunction('convertToInteractive',\n",
              "                                                     [key], {});\n",
              "          if (!dataTable) return;\n",
              "\n",
              "          const docLinkHtml = 'Like what you see? Visit the ' +\n",
              "            '<a target=\"_blank\" href=https://colab.research.google.com/notebooks/data_table.ipynb>data table notebook</a>'\n",
              "            + ' to learn more about interactive tables.';\n",
              "          element.innerHTML = '';\n",
              "          dataTable['output_type'] = 'display_data';\n",
              "          await google.colab.output.renderOutput(dataTable, element);\n",
              "          const docLink = document.createElement('div');\n",
              "          docLink.innerHTML = docLinkHtml;\n",
              "          element.appendChild(docLink);\n",
              "        }\n",
              "      </script>\n",
              "    </div>\n",
              "  </div>\n",
              "  "
            ]
          },
          "metadata": {},
          "execution_count": 5
        }
      ]
    },
    {
      "cell_type": "code",
      "source": [
        "print('Number of users x features:', users.shape)\n",
        "num_users = len(users)"
      ],
      "metadata": {
        "colab": {
          "base_uri": "https://localhost:8080/"
        },
        "id": "tld76GsjXc4M",
        "outputId": "8c15fe0e-f5d5-421e-96e6-792b8c3cebfb"
      },
      "execution_count": null,
      "outputs": [
        {
          "output_type": "stream",
          "name": "stdout",
          "text": [
            "Number of users x features: (943, 5)\n"
          ]
        }
      ]
    },
    {
      "cell_type": "markdown",
      "source": [
        "### **Movies**"
      ],
      "metadata": {
        "id": "lnBopXNHcVM-"
      }
    },
    {
      "cell_type": "code",
      "source": [
        "movies = pd.read_csv('ml-100k/u.item',  sep='|', header=None, encoding='latin-1')\n",
        "\n",
        "# Number of movies\n",
        "num_movies = len(movies)\n",
        "print('The number of movies is: ', num_movies)\n",
        "\n",
        "# Genres\n",
        "movies_genre = np.matrix(movies.loc[:, 5:])\n",
        "movies_genre_name = np.array(pd.read_csv('ml-100k/u.genre', sep='|', header=None, encoding='latin-1').loc[:, 0])\n",
        "movies.head()\n",
        "\n",
        "# Quick overview\n",
        "movies.columns = ['Index', 'Title', 'Release', 'The Not a Number column', 'Imdb'] + movies_genre_name.tolist()\n",
        "movies.head()"
      ],
      "metadata": {
        "colab": {
          "base_uri": "https://localhost:8080/",
          "height": 490
        },
        "id": "NyOJ9ESuXijN",
        "outputId": "29ef6ed3-3b25-4491-8ba8-ee080667649a"
      },
      "execution_count": null,
      "outputs": [
        {
          "output_type": "stream",
          "name": "stdout",
          "text": [
            "The number of movies is:  1682\n"
          ]
        },
        {
          "output_type": "execute_result",
          "data": {
            "text/plain": [
              "   Index              Title      Release  The Not a Number column  \\\n",
              "0      1   Toy Story (1995)  01-Jan-1995                      NaN   \n",
              "1      2   GoldenEye (1995)  01-Jan-1995                      NaN   \n",
              "2      3  Four Rooms (1995)  01-Jan-1995                      NaN   \n",
              "3      4  Get Shorty (1995)  01-Jan-1995                      NaN   \n",
              "4      5     Copycat (1995)  01-Jan-1995                      NaN   \n",
              "\n",
              "                                                Imdb  unknown  Action  \\\n",
              "0  http://us.imdb.com/M/title-exact?Toy%20Story%2...        0       0   \n",
              "1  http://us.imdb.com/M/title-exact?GoldenEye%20(...        0       1   \n",
              "2  http://us.imdb.com/M/title-exact?Four%20Rooms%...        0       0   \n",
              "3  http://us.imdb.com/M/title-exact?Get%20Shorty%...        0       1   \n",
              "4  http://us.imdb.com/M/title-exact?Copycat%20(1995)        0       0   \n",
              "\n",
              "   Adventure  Animation  Children's  ...  Fantasy  Film-Noir  Horror  Musical  \\\n",
              "0          0          1           1  ...        0          0       0        0   \n",
              "1          1          0           0  ...        0          0       0        0   \n",
              "2          0          0           0  ...        0          0       0        0   \n",
              "3          0          0           0  ...        0          0       0        0   \n",
              "4          0          0           0  ...        0          0       0        0   \n",
              "\n",
              "   Mystery  Romance  Sci-Fi  Thriller  War  Western  \n",
              "0        0        0       0         0    0        0  \n",
              "1        0        0       0         1    0        0  \n",
              "2        0        0       0         1    0        0  \n",
              "3        0        0       0         0    0        0  \n",
              "4        0        0       0         1    0        0  \n",
              "\n",
              "[5 rows x 24 columns]"
            ],
            "text/html": [
              "\n",
              "  <div id=\"df-0211722f-0717-4dc4-80e5-45a5f0574deb\">\n",
              "    <div class=\"colab-df-container\">\n",
              "      <div>\n",
              "<style scoped>\n",
              "    .dataframe tbody tr th:only-of-type {\n",
              "        vertical-align: middle;\n",
              "    }\n",
              "\n",
              "    .dataframe tbody tr th {\n",
              "        vertical-align: top;\n",
              "    }\n",
              "\n",
              "    .dataframe thead th {\n",
              "        text-align: right;\n",
              "    }\n",
              "</style>\n",
              "<table border=\"1\" class=\"dataframe\">\n",
              "  <thead>\n",
              "    <tr style=\"text-align: right;\">\n",
              "      <th></th>\n",
              "      <th>Index</th>\n",
              "      <th>Title</th>\n",
              "      <th>Release</th>\n",
              "      <th>The Not a Number column</th>\n",
              "      <th>Imdb</th>\n",
              "      <th>unknown</th>\n",
              "      <th>Action</th>\n",
              "      <th>Adventure</th>\n",
              "      <th>Animation</th>\n",
              "      <th>Children's</th>\n",
              "      <th>...</th>\n",
              "      <th>Fantasy</th>\n",
              "      <th>Film-Noir</th>\n",
              "      <th>Horror</th>\n",
              "      <th>Musical</th>\n",
              "      <th>Mystery</th>\n",
              "      <th>Romance</th>\n",
              "      <th>Sci-Fi</th>\n",
              "      <th>Thriller</th>\n",
              "      <th>War</th>\n",
              "      <th>Western</th>\n",
              "    </tr>\n",
              "  </thead>\n",
              "  <tbody>\n",
              "    <tr>\n",
              "      <th>0</th>\n",
              "      <td>1</td>\n",
              "      <td>Toy Story (1995)</td>\n",
              "      <td>01-Jan-1995</td>\n",
              "      <td>NaN</td>\n",
              "      <td>http://us.imdb.com/M/title-exact?Toy%20Story%2...</td>\n",
              "      <td>0</td>\n",
              "      <td>0</td>\n",
              "      <td>0</td>\n",
              "      <td>1</td>\n",
              "      <td>1</td>\n",
              "      <td>...</td>\n",
              "      <td>0</td>\n",
              "      <td>0</td>\n",
              "      <td>0</td>\n",
              "      <td>0</td>\n",
              "      <td>0</td>\n",
              "      <td>0</td>\n",
              "      <td>0</td>\n",
              "      <td>0</td>\n",
              "      <td>0</td>\n",
              "      <td>0</td>\n",
              "    </tr>\n",
              "    <tr>\n",
              "      <th>1</th>\n",
              "      <td>2</td>\n",
              "      <td>GoldenEye (1995)</td>\n",
              "      <td>01-Jan-1995</td>\n",
              "      <td>NaN</td>\n",
              "      <td>http://us.imdb.com/M/title-exact?GoldenEye%20(...</td>\n",
              "      <td>0</td>\n",
              "      <td>1</td>\n",
              "      <td>1</td>\n",
              "      <td>0</td>\n",
              "      <td>0</td>\n",
              "      <td>...</td>\n",
              "      <td>0</td>\n",
              "      <td>0</td>\n",
              "      <td>0</td>\n",
              "      <td>0</td>\n",
              "      <td>0</td>\n",
              "      <td>0</td>\n",
              "      <td>0</td>\n",
              "      <td>1</td>\n",
              "      <td>0</td>\n",
              "      <td>0</td>\n",
              "    </tr>\n",
              "    <tr>\n",
              "      <th>2</th>\n",
              "      <td>3</td>\n",
              "      <td>Four Rooms (1995)</td>\n",
              "      <td>01-Jan-1995</td>\n",
              "      <td>NaN</td>\n",
              "      <td>http://us.imdb.com/M/title-exact?Four%20Rooms%...</td>\n",
              "      <td>0</td>\n",
              "      <td>0</td>\n",
              "      <td>0</td>\n",
              "      <td>0</td>\n",
              "      <td>0</td>\n",
              "      <td>...</td>\n",
              "      <td>0</td>\n",
              "      <td>0</td>\n",
              "      <td>0</td>\n",
              "      <td>0</td>\n",
              "      <td>0</td>\n",
              "      <td>0</td>\n",
              "      <td>0</td>\n",
              "      <td>1</td>\n",
              "      <td>0</td>\n",
              "      <td>0</td>\n",
              "    </tr>\n",
              "    <tr>\n",
              "      <th>3</th>\n",
              "      <td>4</td>\n",
              "      <td>Get Shorty (1995)</td>\n",
              "      <td>01-Jan-1995</td>\n",
              "      <td>NaN</td>\n",
              "      <td>http://us.imdb.com/M/title-exact?Get%20Shorty%...</td>\n",
              "      <td>0</td>\n",
              "      <td>1</td>\n",
              "      <td>0</td>\n",
              "      <td>0</td>\n",
              "      <td>0</td>\n",
              "      <td>...</td>\n",
              "      <td>0</td>\n",
              "      <td>0</td>\n",
              "      <td>0</td>\n",
              "      <td>0</td>\n",
              "      <td>0</td>\n",
              "      <td>0</td>\n",
              "      <td>0</td>\n",
              "      <td>0</td>\n",
              "      <td>0</td>\n",
              "      <td>0</td>\n",
              "    </tr>\n",
              "    <tr>\n",
              "      <th>4</th>\n",
              "      <td>5</td>\n",
              "      <td>Copycat (1995)</td>\n",
              "      <td>01-Jan-1995</td>\n",
              "      <td>NaN</td>\n",
              "      <td>http://us.imdb.com/M/title-exact?Copycat%20(1995)</td>\n",
              "      <td>0</td>\n",
              "      <td>0</td>\n",
              "      <td>0</td>\n",
              "      <td>0</td>\n",
              "      <td>0</td>\n",
              "      <td>...</td>\n",
              "      <td>0</td>\n",
              "      <td>0</td>\n",
              "      <td>0</td>\n",
              "      <td>0</td>\n",
              "      <td>0</td>\n",
              "      <td>0</td>\n",
              "      <td>0</td>\n",
              "      <td>1</td>\n",
              "      <td>0</td>\n",
              "      <td>0</td>\n",
              "    </tr>\n",
              "  </tbody>\n",
              "</table>\n",
              "<p>5 rows × 24 columns</p>\n",
              "</div>\n",
              "      <button class=\"colab-df-convert\" onclick=\"convertToInteractive('df-0211722f-0717-4dc4-80e5-45a5f0574deb')\"\n",
              "              title=\"Convert this dataframe to an interactive table.\"\n",
              "              style=\"display:none;\">\n",
              "        \n",
              "  <svg xmlns=\"http://www.w3.org/2000/svg\" height=\"24px\"viewBox=\"0 0 24 24\"\n",
              "       width=\"24px\">\n",
              "    <path d=\"M0 0h24v24H0V0z\" fill=\"none\"/>\n",
              "    <path d=\"M18.56 5.44l.94 2.06.94-2.06 2.06-.94-2.06-.94-.94-2.06-.94 2.06-2.06.94zm-11 1L8.5 8.5l.94-2.06 2.06-.94-2.06-.94L8.5 2.5l-.94 2.06-2.06.94zm10 10l.94 2.06.94-2.06 2.06-.94-2.06-.94-.94-2.06-.94 2.06-2.06.94z\"/><path d=\"M17.41 7.96l-1.37-1.37c-.4-.4-.92-.59-1.43-.59-.52 0-1.04.2-1.43.59L10.3 9.45l-7.72 7.72c-.78.78-.78 2.05 0 2.83L4 21.41c.39.39.9.59 1.41.59.51 0 1.02-.2 1.41-.59l7.78-7.78 2.81-2.81c.8-.78.8-2.07 0-2.86zM5.41 20L4 18.59l7.72-7.72 1.47 1.35L5.41 20z\"/>\n",
              "  </svg>\n",
              "      </button>\n",
              "      \n",
              "  <style>\n",
              "    .colab-df-container {\n",
              "      display:flex;\n",
              "      flex-wrap:wrap;\n",
              "      gap: 12px;\n",
              "    }\n",
              "\n",
              "    .colab-df-convert {\n",
              "      background-color: #E8F0FE;\n",
              "      border: none;\n",
              "      border-radius: 50%;\n",
              "      cursor: pointer;\n",
              "      display: none;\n",
              "      fill: #1967D2;\n",
              "      height: 32px;\n",
              "      padding: 0 0 0 0;\n",
              "      width: 32px;\n",
              "    }\n",
              "\n",
              "    .colab-df-convert:hover {\n",
              "      background-color: #E2EBFA;\n",
              "      box-shadow: 0px 1px 2px rgba(60, 64, 67, 0.3), 0px 1px 3px 1px rgba(60, 64, 67, 0.15);\n",
              "      fill: #174EA6;\n",
              "    }\n",
              "\n",
              "    [theme=dark] .colab-df-convert {\n",
              "      background-color: #3B4455;\n",
              "      fill: #D2E3FC;\n",
              "    }\n",
              "\n",
              "    [theme=dark] .colab-df-convert:hover {\n",
              "      background-color: #434B5C;\n",
              "      box-shadow: 0px 1px 3px 1px rgba(0, 0, 0, 0.15);\n",
              "      filter: drop-shadow(0px 1px 2px rgba(0, 0, 0, 0.3));\n",
              "      fill: #FFFFFF;\n",
              "    }\n",
              "  </style>\n",
              "\n",
              "      <script>\n",
              "        const buttonEl =\n",
              "          document.querySelector('#df-0211722f-0717-4dc4-80e5-45a5f0574deb button.colab-df-convert');\n",
              "        buttonEl.style.display =\n",
              "          google.colab.kernel.accessAllowed ? 'block' : 'none';\n",
              "\n",
              "        async function convertToInteractive(key) {\n",
              "          const element = document.querySelector('#df-0211722f-0717-4dc4-80e5-45a5f0574deb');\n",
              "          const dataTable =\n",
              "            await google.colab.kernel.invokeFunction('convertToInteractive',\n",
              "                                                     [key], {});\n",
              "          if (!dataTable) return;\n",
              "\n",
              "          const docLinkHtml = 'Like what you see? Visit the ' +\n",
              "            '<a target=\"_blank\" href=https://colab.research.google.com/notebooks/data_table.ipynb>data table notebook</a>'\n",
              "            + ' to learn more about interactive tables.';\n",
              "          element.innerHTML = '';\n",
              "          dataTable['output_type'] = 'display_data';\n",
              "          await google.colab.output.renderOutput(dataTable, element);\n",
              "          const docLink = document.createElement('div');\n",
              "          docLink.innerHTML = docLinkHtml;\n",
              "          element.appendChild(docLink);\n",
              "        }\n",
              "      </script>\n",
              "    </div>\n",
              "  </div>\n",
              "  "
            ]
          },
          "metadata": {},
          "execution_count": 7
        }
      ]
    },
    {
      "cell_type": "markdown",
      "source": [
        "### **Ratings**\n",
        "The dataset based on users ratings consists of approximately 100k lines (one evaluation per line) where the following are presented: the user identification number, the identification number of the movie, its associated rating and a time marker. The training and test sets are provided as is, that is, we do not need to build them ourselves, and have 80k and 20k evaluations respectively."
      ],
      "metadata": {
        "id": "aTK9tFlSe4aj"
      }
    },
    {
      "cell_type": "code",
      "source": [
        "training_set = np.array(pd.read_csv('ml-100k/u1.base', delimiter='\\t', header=None), dtype='int')\n",
        "testing_set = np.array(pd.read_csv('ml-100k/u1.test', delimiter='\\t', header=None), dtype='int')\n",
        "\n",
        "print('Example sample (user id, movie id, rating, timestamp: ', training_set[0])\n",
        "print('Shape of original training and test set with shape:     ', training_set.shape, testing_set.shape)"
      ],
      "metadata": {
        "colab": {
          "base_uri": "https://localhost:8080/"
        },
        "id": "-xhD4WqNdKiI",
        "outputId": "cd983caf-5b65-472f-b10e-c04a8aa57a9c"
      },
      "execution_count": null,
      "outputs": [
        {
          "output_type": "stream",
          "name": "stdout",
          "text": [
            "Example sample (user id, movie id, rating, timestamp:  [        1         1         5 874965758]\n",
            "Shape of original training and test set with shape:      (80000, 4) (20000, 4)\n"
          ]
        }
      ]
    },
    {
      "cell_type": "markdown",
      "source": [
        "#### Utility function(s)"
      ],
      "metadata": {
        "id": "Q1WQpZwMgaHE"
      }
    },
    {
      "cell_type": "code",
      "source": [
        "def convert(data, nb_users, nb_movies):\n",
        "    new_data = []\n",
        "    for id_users in range(1, nb_users + 1):\n",
        "        id_movies = data[:,1][data[:,0] == id_users]\n",
        "        id_ratings = data[:,2][data[:,0] == id_users]\n",
        "        ratings = np.zeros(nb_movies)\n",
        "        ratings[id_movies - 1] = id_ratings\n",
        "        new_data.append(list(ratings))\n",
        "    return new_data\n"
      ],
      "metadata": {
        "id": "30RKswx1gYLs"
      },
      "execution_count": null,
      "outputs": []
    },
    {
      "cell_type": "code",
      "source": [
        "train_set = convert(training_set, num_users, num_movies)\n",
        "test_set = convert(testing_set, num_users, num_movies)\n",
        "\n",
        "print('Shape of final training set: (list of users x list of all movies):', len(train_set), len(train_set[0]))\n",
        "print('Shape of final test set:     (list of users x list of all movies):', len(test_set), len(test_set[0]))"
      ],
      "metadata": {
        "colab": {
          "base_uri": "https://localhost:8080/"
        },
        "id": "3HjaOxOThQSC",
        "outputId": "091034de-f870-4772-9c56-d784ad4d3ce7"
      },
      "execution_count": null,
      "outputs": [
        {
          "output_type": "stream",
          "name": "stdout",
          "text": [
            "Shape of final training set: (list of users x list of all movies): 943 1682\n",
            "Shape of final test set:     (list of users x list of all movies): 943 1682\n"
          ]
        }
      ]
    },
    {
      "cell_type": "markdown",
      "source": [
        "Some descriptive statistics associated:"
      ],
      "metadata": {
        "id": "9ZLtPBDEj737"
      }
    },
    {
      "cell_type": "code",
      "source": [
        "train_matrix = np.array(train_set)\n",
        "\n",
        "binarized_train_matrix = np.where(train_matrix > 0 , 1, 0)\n",
        "\n",
        "num_movies_watched = np.sum(binarized_train_matrix, axis=1) ## sum across movies for each user\n",
        "pd.DataFrame(num_movies_watched).describe().T"
      ],
      "metadata": {
        "colab": {
          "base_uri": "https://localhost:8080/",
          "height": 81
        },
        "id": "mGoEDUnCjexT",
        "outputId": "02ac813c-8dc6-4525-b6f2-59f6ff0cbbb0"
      },
      "execution_count": null,
      "outputs": [
        {
          "output_type": "execute_result",
          "data": {
            "text/plain": [
              "   count       mean        std  min   25%   50%    75%    max\n",
              "0  943.0  84.835631  83.806416  4.0  27.0  50.0  115.0  685.0"
            ],
            "text/html": [
              "\n",
              "  <div id=\"df-ff9ed1e5-0083-4e80-bb29-2b398c6a630d\">\n",
              "    <div class=\"colab-df-container\">\n",
              "      <div>\n",
              "<style scoped>\n",
              "    .dataframe tbody tr th:only-of-type {\n",
              "        vertical-align: middle;\n",
              "    }\n",
              "\n",
              "    .dataframe tbody tr th {\n",
              "        vertical-align: top;\n",
              "    }\n",
              "\n",
              "    .dataframe thead th {\n",
              "        text-align: right;\n",
              "    }\n",
              "</style>\n",
              "<table border=\"1\" class=\"dataframe\">\n",
              "  <thead>\n",
              "    <tr style=\"text-align: right;\">\n",
              "      <th></th>\n",
              "      <th>count</th>\n",
              "      <th>mean</th>\n",
              "      <th>std</th>\n",
              "      <th>min</th>\n",
              "      <th>25%</th>\n",
              "      <th>50%</th>\n",
              "      <th>75%</th>\n",
              "      <th>max</th>\n",
              "    </tr>\n",
              "  </thead>\n",
              "  <tbody>\n",
              "    <tr>\n",
              "      <th>0</th>\n",
              "      <td>943.0</td>\n",
              "      <td>84.835631</td>\n",
              "      <td>83.806416</td>\n",
              "      <td>4.0</td>\n",
              "      <td>27.0</td>\n",
              "      <td>50.0</td>\n",
              "      <td>115.0</td>\n",
              "      <td>685.0</td>\n",
              "    </tr>\n",
              "  </tbody>\n",
              "</table>\n",
              "</div>\n",
              "      <button class=\"colab-df-convert\" onclick=\"convertToInteractive('df-ff9ed1e5-0083-4e80-bb29-2b398c6a630d')\"\n",
              "              title=\"Convert this dataframe to an interactive table.\"\n",
              "              style=\"display:none;\">\n",
              "        \n",
              "  <svg xmlns=\"http://www.w3.org/2000/svg\" height=\"24px\"viewBox=\"0 0 24 24\"\n",
              "       width=\"24px\">\n",
              "    <path d=\"M0 0h24v24H0V0z\" fill=\"none\"/>\n",
              "    <path d=\"M18.56 5.44l.94 2.06.94-2.06 2.06-.94-2.06-.94-.94-2.06-.94 2.06-2.06.94zm-11 1L8.5 8.5l.94-2.06 2.06-.94-2.06-.94L8.5 2.5l-.94 2.06-2.06.94zm10 10l.94 2.06.94-2.06 2.06-.94-2.06-.94-.94-2.06-.94 2.06-2.06.94z\"/><path d=\"M17.41 7.96l-1.37-1.37c-.4-.4-.92-.59-1.43-.59-.52 0-1.04.2-1.43.59L10.3 9.45l-7.72 7.72c-.78.78-.78 2.05 0 2.83L4 21.41c.39.39.9.59 1.41.59.51 0 1.02-.2 1.41-.59l7.78-7.78 2.81-2.81c.8-.78.8-2.07 0-2.86zM5.41 20L4 18.59l7.72-7.72 1.47 1.35L5.41 20z\"/>\n",
              "  </svg>\n",
              "      </button>\n",
              "      \n",
              "  <style>\n",
              "    .colab-df-container {\n",
              "      display:flex;\n",
              "      flex-wrap:wrap;\n",
              "      gap: 12px;\n",
              "    }\n",
              "\n",
              "    .colab-df-convert {\n",
              "      background-color: #E8F0FE;\n",
              "      border: none;\n",
              "      border-radius: 50%;\n",
              "      cursor: pointer;\n",
              "      display: none;\n",
              "      fill: #1967D2;\n",
              "      height: 32px;\n",
              "      padding: 0 0 0 0;\n",
              "      width: 32px;\n",
              "    }\n",
              "\n",
              "    .colab-df-convert:hover {\n",
              "      background-color: #E2EBFA;\n",
              "      box-shadow: 0px 1px 2px rgba(60, 64, 67, 0.3), 0px 1px 3px 1px rgba(60, 64, 67, 0.15);\n",
              "      fill: #174EA6;\n",
              "    }\n",
              "\n",
              "    [theme=dark] .colab-df-convert {\n",
              "      background-color: #3B4455;\n",
              "      fill: #D2E3FC;\n",
              "    }\n",
              "\n",
              "    [theme=dark] .colab-df-convert:hover {\n",
              "      background-color: #434B5C;\n",
              "      box-shadow: 0px 1px 3px 1px rgba(0, 0, 0, 0.15);\n",
              "      filter: drop-shadow(0px 1px 2px rgba(0, 0, 0, 0.3));\n",
              "      fill: #FFFFFF;\n",
              "    }\n",
              "  </style>\n",
              "\n",
              "      <script>\n",
              "        const buttonEl =\n",
              "          document.querySelector('#df-ff9ed1e5-0083-4e80-bb29-2b398c6a630d button.colab-df-convert');\n",
              "        buttonEl.style.display =\n",
              "          google.colab.kernel.accessAllowed ? 'block' : 'none';\n",
              "\n",
              "        async function convertToInteractive(key) {\n",
              "          const element = document.querySelector('#df-ff9ed1e5-0083-4e80-bb29-2b398c6a630d');\n",
              "          const dataTable =\n",
              "            await google.colab.kernel.invokeFunction('convertToInteractive',\n",
              "                                                     [key], {});\n",
              "          if (!dataTable) return;\n",
              "\n",
              "          const docLinkHtml = 'Like what you see? Visit the ' +\n",
              "            '<a target=\"_blank\" href=https://colab.research.google.com/notebooks/data_table.ipynb>data table notebook</a>'\n",
              "            + ' to learn more about interactive tables.';\n",
              "          element.innerHTML = '';\n",
              "          dataTable['output_type'] = 'display_data';\n",
              "          await google.colab.output.renderOutput(dataTable, element);\n",
              "          const docLink = document.createElement('div');\n",
              "          docLink.innerHTML = docLinkHtml;\n",
              "          element.appendChild(docLink);\n",
              "        }\n",
              "      </script>\n",
              "    </div>\n",
              "  </div>\n",
              "  "
            ]
          },
          "metadata": {},
          "execution_count": 11
        }
      ]
    },
    {
      "cell_type": "markdown",
      "source": [
        "i.e. The median user in our training set has watched 50 movies, with smallest number of movies watched being 4, and the most movies watched being 685."
      ],
      "metadata": {
        "id": "jNf1ENUakaL3"
      }
    },
    {
      "cell_type": "markdown",
      "source": [
        "#### Histogram of the number of movies watched per user."
      ],
      "metadata": {
        "id": "Kh4yjqGtkn3r"
      }
    },
    {
      "cell_type": "code",
      "source": [
        "sns.set(rc={'figure.figsize': (12,8)})\n",
        "sns.set(font_scale = 1.5)\n",
        "\n",
        "plt.title('Empirical distribution of \\n the number of movies watched per user')\n",
        "plt.xlabel('Number of movies watched')\n",
        "plt.ylabel('Number of users')\n",
        "plt.hist(num_movies_watched, 100);"
      ],
      "metadata": {
        "colab": {
          "base_uri": "https://localhost:8080/",
          "height": 556
        },
        "id": "-zJeNua2kHJe",
        "outputId": "560cc3bd-f742-49cd-caf3-b23775abc3df"
      },
      "execution_count": null,
      "outputs": [
        {
          "output_type": "display_data",
          "data": {
            "text/plain": [
              "<Figure size 864x576 with 1 Axes>"
            ],
            "image/png": "[encoded data removed]"
          },
          "metadata": {}
        }
      ]
    },
    {
      "cell_type": "markdown",
      "source": [
        "#### Percentage of users having seen a movie"
      ],
      "metadata": {
        "id": "KQT8DkqVqSj0"
      }
    },
    {
      "cell_type": "code",
      "source": [
        "movie_popularity = np.mean(binarized_train_matrix, axis=0)  # averaging across users(rows)\n",
        "pd.DataFrame(movie_popularity).describe().T"
      ],
      "metadata": {
        "colab": {
          "base_uri": "https://localhost:8080/",
          "height": 81
        },
        "id": "uQMteoTOlS6d",
        "outputId": "a58a3c6e-b440-4132-83b1-380baf8fae60"
      },
      "execution_count": null,
      "outputs": [
        {
          "output_type": "execute_result",
          "data": {
            "text/plain": [
              "    count      mean       std  min       25%       50%       75%       max\n",
              "0  1682.0  0.050437  0.068667  0.0  0.005302  0.022269  0.066808  0.513256"
            ],
            "text/html": [
              "\n",
              "  <div id=\"df-42533377-df1e-4a9b-9a67-811856a4158b\">\n",
              "    <div class=\"colab-df-container\">\n",
              "      <div>\n",
              "<style scoped>\n",
              "    .dataframe tbody tr th:only-of-type {\n",
              "        vertical-align: middle;\n",
              "    }\n",
              "\n",
              "    .dataframe tbody tr th {\n",
              "        vertical-align: top;\n",
              "    }\n",
              "\n",
              "    .dataframe thead th {\n",
              "        text-align: right;\n",
              "    }\n",
              "</style>\n",
              "<table border=\"1\" class=\"dataframe\">\n",
              "  <thead>\n",
              "    <tr style=\"text-align: right;\">\n",
              "      <th></th>\n",
              "      <th>count</th>\n",
              "      <th>mean</th>\n",
              "      <th>std</th>\n",
              "      <th>min</th>\n",
              "      <th>25%</th>\n",
              "      <th>50%</th>\n",
              "      <th>75%</th>\n",
              "      <th>max</th>\n",
              "    </tr>\n",
              "  </thead>\n",
              "  <tbody>\n",
              "    <tr>\n",
              "      <th>0</th>\n",
              "      <td>1682.0</td>\n",
              "      <td>0.050437</td>\n",
              "      <td>0.068667</td>\n",
              "      <td>0.0</td>\n",
              "      <td>0.005302</td>\n",
              "      <td>0.022269</td>\n",
              "      <td>0.066808</td>\n",
              "      <td>0.513256</td>\n",
              "    </tr>\n",
              "  </tbody>\n",
              "</table>\n",
              "</div>\n",
              "      <button class=\"colab-df-convert\" onclick=\"convertToInteractive('df-42533377-df1e-4a9b-9a67-811856a4158b')\"\n",
              "              title=\"Convert this dataframe to an interactive table.\"\n",
              "              style=\"display:none;\">\n",
              "        \n",
              "  <svg xmlns=\"http://www.w3.org/2000/svg\" height=\"24px\"viewBox=\"0 0 24 24\"\n",
              "       width=\"24px\">\n",
              "    <path d=\"M0 0h24v24H0V0z\" fill=\"none\"/>\n",
              "    <path d=\"M18.56 5.44l.94 2.06.94-2.06 2.06-.94-2.06-.94-.94-2.06-.94 2.06-2.06.94zm-11 1L8.5 8.5l.94-2.06 2.06-.94-2.06-.94L8.5 2.5l-.94 2.06-2.06.94zm10 10l.94 2.06.94-2.06 2.06-.94-2.06-.94-.94-2.06-.94 2.06-2.06.94z\"/><path d=\"M17.41 7.96l-1.37-1.37c-.4-.4-.92-.59-1.43-.59-.52 0-1.04.2-1.43.59L10.3 9.45l-7.72 7.72c-.78.78-.78 2.05 0 2.83L4 21.41c.39.39.9.59 1.41.59.51 0 1.02-.2 1.41-.59l7.78-7.78 2.81-2.81c.8-.78.8-2.07 0-2.86zM5.41 20L4 18.59l7.72-7.72 1.47 1.35L5.41 20z\"/>\n",
              "  </svg>\n",
              "      </button>\n",
              "      \n",
              "  <style>\n",
              "    .colab-df-container {\n",
              "      display:flex;\n",
              "      flex-wrap:wrap;\n",
              "      gap: 12px;\n",
              "    }\n",
              "\n",
              "    .colab-df-convert {\n",
              "      background-color: #E8F0FE;\n",
              "      border: none;\n",
              "      border-radius: 50%;\n",
              "      cursor: pointer;\n",
              "      display: none;\n",
              "      fill: #1967D2;\n",
              "      height: 32px;\n",
              "      padding: 0 0 0 0;\n",
              "      width: 32px;\n",
              "    }\n",
              "\n",
              "    .colab-df-convert:hover {\n",
              "      background-color: #E2EBFA;\n",
              "      box-shadow: 0px 1px 2px rgba(60, 64, 67, 0.3), 0px 1px 3px 1px rgba(60, 64, 67, 0.15);\n",
              "      fill: #174EA6;\n",
              "    }\n",
              "\n",
              "    [theme=dark] .colab-df-convert {\n",
              "      background-color: #3B4455;\n",
              "      fill: #D2E3FC;\n",
              "    }\n",
              "\n",
              "    [theme=dark] .colab-df-convert:hover {\n",
              "      background-color: #434B5C;\n",
              "      box-shadow: 0px 1px 3px 1px rgba(0, 0, 0, 0.15);\n",
              "      filter: drop-shadow(0px 1px 2px rgba(0, 0, 0, 0.3));\n",
              "      fill: #FFFFFF;\n",
              "    }\n",
              "  </style>\n",
              "\n",
              "      <script>\n",
              "        const buttonEl =\n",
              "          document.querySelector('#df-42533377-df1e-4a9b-9a67-811856a4158b button.colab-df-convert');\n",
              "        buttonEl.style.display =\n",
              "          google.colab.kernel.accessAllowed ? 'block' : 'none';\n",
              "\n",
              "        async function convertToInteractive(key) {\n",
              "          const element = document.querySelector('#df-42533377-df1e-4a9b-9a67-811856a4158b');\n",
              "          const dataTable =\n",
              "            await google.colab.kernel.invokeFunction('convertToInteractive',\n",
              "                                                     [key], {});\n",
              "          if (!dataTable) return;\n",
              "\n",
              "          const docLinkHtml = 'Like what you see? Visit the ' +\n",
              "            '<a target=\"_blank\" href=https://colab.research.google.com/notebooks/data_table.ipynb>data table notebook</a>'\n",
              "            + ' to learn more about interactive tables.';\n",
              "          element.innerHTML = '';\n",
              "          dataTable['output_type'] = 'display_data';\n",
              "          await google.colab.output.renderOutput(dataTable, element);\n",
              "          const docLink = document.createElement('div');\n",
              "          docLink.innerHTML = docLinkHtml;\n",
              "          element.appendChild(docLink);\n",
              "        }\n",
              "      </script>\n",
              "    </div>\n",
              "  </div>\n",
              "  "
            ]
          },
          "metadata": {},
          "execution_count": 13
        }
      ]
    },
    {
      "cell_type": "markdown",
      "source": [
        "i.e. 50% of movies were seen by less than 2% of users, whereas there are movies that were seen by either no user or by 51% of all users.\n",
        " \n",
        "We can also plot this as a histogram and see how many movies were seen by what proportion of the population."
      ],
      "metadata": {
        "id": "QC-6XiMpq7Bu"
      }
    },
    {
      "cell_type": "code",
      "source": [
        "plt.xlabel('Proportion of the population who watched the movie')\n",
        "plt.ylabel('Number of Movies')\n",
        "plt.hist(movie_popularity, 100);"
      ],
      "metadata": {
        "colab": {
          "base_uri": "https://localhost:8080/",
          "height": 515
        },
        "id": "Kzlfjf6-q2vb",
        "outputId": "701abe6c-1c0f-4f7e-9d3c-9991c25db760"
      },
      "execution_count": null,
      "outputs": [
        {
          "output_type": "display_data",
          "data": {
            "text/plain": [
              "<Figure size 864x576 with 1 Axes>"
            ],
            "image/png": "[encoded data removed]"
          },
          "metadata": {}
        }
      ]
    },
    {
      "cell_type": "markdown",
      "source": [
        "This histogram tells us that a very small fraction of users have seen a large percentage of movies, whereas majority of users have only seen a few movies."
      ],
      "metadata": {
        "id": "o1QWO5wBsjxu"
      }
    },
    {
      "cell_type": "markdown",
      "source": [
        "## Construction of the training and validation sets"
      ],
      "metadata": {
        "id": "IoHYLMb5sySp"
      }
    },
    {
      "cell_type": "code",
      "source": [
        "def split(data, ratio, tensor=False):\n",
        "    train = np.zeros((len(data), len(data[0]))).tolist()\n",
        "    valid = np.zeros((len(data), len(data[0]))).tolist()\n",
        "\n",
        "    for i in range(len(data)):\n",
        "        for j in range(len(data[i])):\n",
        "            if data[i][j] > 0:\n",
        "                if np.random.binomial(1, ratio, 1):\n",
        "                    train[i][j] = data[i][j]\n",
        "                else:\n",
        "                    valid[i][j] = data[i][j]\n",
        "\n",
        "    return (train, valid)\n",
        "\n",
        "train = split(train_set, 0.8)\n",
        "test = test_set"
      ],
      "metadata": {
        "id": "8iHevswfsHMh"
      },
      "execution_count": null,
      "outputs": []
    },
    {
      "cell_type": "markdown",
      "source": [
        "# Matrix Factorization"
      ],
      "metadata": {
        "id": "8GapEolguyhb"
      }
    },
    {
      "cell_type": "markdown",
      "source": [
        "### **Learning loop**"
      ],
      "metadata": {
        "id": "tYdzgxOhvEsd"
      }
    },
    {
      "cell_type": "code",
      "source": [
        "def learn_to_recommend(data, num_features=10, lr=0.0002, epochs=100, lambdaa=0.02, stopping=0.001):\n",
        "    \"\"\"\n",
        "    Args:\n",
        "       data: every evaluation\n",
        "       num_features: number of latent factors/features\n",
        "       lr: learning rate for gradient descent\n",
        "       epochs: number of iterations or maximum loops to perform\n",
        "       lambdaa: L2 regularization to predict ratings different from 0\n",
        "       stopping: scalar associated with the stopping criterion\n",
        "      \n",
        "     Returns:\n",
        "       P: latent matrix of users / user-factor matrix\n",
        "       Q: latent matrix of items / item-factor matrix\n",
        "       loss_train: vector of the different values of the loss function after each iteration on the train\n",
        "       loss_valid: vector of the different values of the loss function after each iteration not on valid\n",
        "       \"\"\"\n",
        "     \n",
        "    train, valid = data[0], data[1]\n",
        "    num_users, num_items = len(train), len(train[0])\n",
        "\n",
        "    # Initialization of lists\n",
        "    loss_train, loss_valid = [], []\n",
        "\n",
        "    P = np.random.rand(num_users, num_features) * 0.1\n",
        "    Q = np.random.rand(num_items, num_features) * 0.1\n",
        "    \n",
        "    for e in range(epochs):        \n",
        "        for u in range(num_users):\n",
        "            for i in range(num_items):\n",
        "\n",
        "                # Considering observed ratings only\n",
        "                if train[u][i] > 0:\n",
        "                    error_ui = train[u][i] - prediction(P, Q, u, i)\n",
        "                    P, Q = sgd(error_ui, P, Q, u, i, num_features, lr, lambdaa)\n",
        "                               \n",
        "        # train. and valid. losses after each epoch\n",
        "        loss_train.append(loss(train, P, Q))\n",
        "        loss_valid.append(loss(valid, P, Q))\n",
        "        \n",
        "        if e % 10 == 0:\n",
        "            print('Epoch : ', \"{:3.0f}\".format(e+1), ' | Train :', \"{:3.3f}\".format(loss_train[-1]), \n",
        "                  ' | Valid :', \"{:3.3f}\".format(loss_valid[-1]))\n",
        "\n",
        "\n",
        "            \n",
        "        # Stopping criterion\n",
        "        if e > 1:\n",
        "            if abs(loss_valid[-1] - loss_valid[-2]) < stopping:\n",
        "                break\n",
        "        \n",
        "    return P, Q, loss_train, loss_valid"
      ],
      "metadata": {
        "id": "DKc6nwmnu2is"
      },
      "execution_count": null,
      "outputs": []
    },
    {
      "cell_type": "markdown",
      "source": [
        "###  **Loss function**"
      ],
      "metadata": {
        "id": "9JVIJW1vzWtM"
      }
    },
    {
      "cell_type": "code",
      "source": [
        "# predict the evaluation of user u for the movie i\n",
        "def prediction(P, Q, u, i):\n",
        "    \"\"\"\n",
        "    Args:\n",
        "        P: user matrix\n",
        "        Q: matrix of items\n",
        "        u: index associated with user u\n",
        "        i: index associated with item i\n",
        "    Returns:\n",
        "        pred: the predicted evaluation of the user u for the item i\n",
        "    \"\"\"\n",
        "    \n",
        "    return np.dot(P[u,:], Q[i,:])\n",
        "\n",
        "# loss function\n",
        "def loss(data, P, Q):\n",
        "    \"\"\"\n",
        "    Args:\n",
        "       data: ratings\n",
        "       P: matrix of users\n",
        "       Q: matrix of items   \n",
        "    Returns:\n",
        "        MSE: observed mean of squared errors \n",
        "    \"\"\"\n",
        "    errors_sum, num_evaluations = 0., 0\n",
        "    num_users, num_items = len(data), len(data[0])\n",
        "\n",
        "    for u in range(num_users):\n",
        "        for i in range(num_items):\n",
        "        \n",
        "            # Computing error over observed ratings only\n",
        "            if data[u][i] > 0:\n",
        "                errors_sum += pow(data[u][i] - prediction(P, Q, u, i), 2)\n",
        "                num_evaluations += 1\n",
        "                \n",
        "    return errors_sum / num_evaluations"
      ],
      "metadata": {
        "id": "M6cyY6JXzPdV"
      },
      "execution_count": null,
      "outputs": []
    },
    {
      "cell_type": "markdown",
      "source": [
        "### **Estimation**"
      ],
      "metadata": {
        "id": "Ws3VHONS1QX-"
      }
    },
    {
      "cell_type": "markdown",
      "source": [
        "Parameters' estimates are directly associated with the loss function we are trying to minimize."
      ],
      "metadata": {
        "id": "KNdGoF4F3v0a"
      }
    },
    {
      "cell_type": "markdown",
      "source": [
        "#### Stochastic Gradient descent"
      ],
      "metadata": {
        "id": "YN2lNq921vuI"
      }
    },
    {
      "cell_type": "markdown",
      "source": [
        "The function we are trying to minimize is:\n",
        " \n",
        "$$\n",
        "\\begin{align}\n",
        "\\underset{p, q}{\\operatorname{min}} L(\\mathbf{R}, \\lambda) = \\underset{p, q}{\\operatorname{min}} \\sum_{r_{ui} \\neq 0} \\{(r_{ui} - \\langle p_u, q_i \\rangle)^2 + \\lambda \\cdot (||p_u||^2 + ||q_i||^2)\\},\n",
        "\\end{align}\n",
        "$$\n",
        "\n",
        "we calculate the gradients of the previous equation as a function of $p_u$ and $q_i$:\n",
        " \n",
        "$$\n",
        "\\nabla_{p_{u}} L(\\mathbf{R}, \\lambda) =  -2q_{i} \\cdot \\epsilon_{ui} + 2\\lambda \\cdot p_{u} \\quad \\text{and} \\quad\n",
        "\\nabla_{q_{i}} L(\\mathbf{R}, \\lambda) =  -2p_{u} \\cdot \\epsilon_{ui} + 2\\lambda \\cdot q_{i},\n",
        "$$\n",
        " \n",
        "where we denote the error by:\n",
        " \n",
        "$$\n",
        "\\epsilon_{ui} = r_{ui} - \\hat{r}_{ui}.\n",
        "$$\n",
        " \n",
        "Finally, for each iteration, as long as the user-item rating is non-zero, we perform the following update on the latent vectors as follows:\n",
        " \n",
        "$$\n",
        "p_{u}^{(t+1)} \\leftarrow p_{u}^{(t)} + \\alpha \\cdot (2q_{i}^{(t)} \\cdot \\epsilon_{ui} - 2 \\lambda \\cdot p_{u}^{(t)}) \\\\\n",
        "q_{i}^{(t+1)} \\leftarrow q_{i}^{(t)} + \\alpha \\cdot (2p_{u}^{(t)} \\cdot \\epsilon_{ui} - 2 \\lambda \\cdot q_{i}^{(t)}),\n",
        "$$\n",
        " \n",
        "where $ p_{u}^{(t + 1)}$ is the value of $ p_{u}$ after the $t + 1$ iteration and where $\\alpha$ is the learning rate of the descent. That is, we take a step in the opposite direction of the gradients such that we minimize the loss function."
      ],
      "metadata": {
        "id": "9GHd4tZt3R3u"
      }
    },
    {
      "cell_type": "code",
      "source": [
        "def sgd(error, P, Q, id_user, id_item, num_features, lr, lambdaa):\n",
        "    \"\"\"\n",
        "    Args:\n",
        "        error: difference between observed and predicted evaluation (in that order)\n",
        "        P: matrix of users\n",
        "        Q: matrix of items\n",
        "        id_user: id_user\n",
        "        id_item: id_item\n",
        "        num_features: number of latent variables\n",
        "        lr: learning for the descent of the gradient\n",
        "        lambdaa: scalar multiplier controlling the influence of the regularization term\n",
        "       \n",
        "     Returns:\n",
        "        P: the new estimate for P\n",
        "        Q: the new estimate for Q\n",
        "     \"\"\"    \n",
        "    \n",
        "    \n",
        "    # update  model parameters  P  and  Q\n",
        "    P[id_user, :] = P[id_user, :] + lr * (2 * Q[id_item, :] * error - 2 * lambdaa * P[id_user, :])\n",
        "    Q[id_item, :] = Q[id_item, :] + lr * (2 * P[id_user, :] * error - 2 * lambdaa * Q[id_item, :])\n",
        "      \n",
        "    return P, Q\n"
      ],
      "metadata": {
        "id": "xqUB2EJC1ghx"
      },
      "execution_count": null,
      "outputs": []
    },
    {
      "cell_type": "markdown",
      "source": [
        "### **Training**"
      ],
      "metadata": {
        "id": "ANbCNelJ4jae"
      }
    },
    {
      "cell_type": "code",
      "source": [
        "num_features = 5\n",
        "lr = 0.01\n",
        "epochs = 101\n",
        "lambdaa = 0.02\n",
        "stopping = 0.001\n",
        "\n",
        "P, Q, loss_train, loss_valid = learn_to_recommend(train, num_features, lr, epochs, lambdaa, stopping)"
      ],
      "metadata": {
        "colab": {
          "base_uri": "https://localhost:8080/"
        },
        "id": "7GK-toU93DOj",
        "outputId": "5ccf216c-d82a-47be-ca1c-ba8a5bf22bd5"
      },
      "execution_count": null,
      "outputs": [
        {
          "output_type": "stream",
          "name": "stdout",
          "text": [
            "Epoch :    1  | Train : 7.058  | Valid : 7.052\n",
            "Epoch :   11  | Train : 0.809  | Valid : 0.991\n"
          ]
        }
      ]
    },
    {
      "cell_type": "markdown",
      "source": [
        "Once the model is trained, we can visualize the different learning curves."
      ],
      "metadata": {
        "id": "Ih-ihd_16SoT"
      }
    },
    {
      "cell_type": "code",
      "source": [
        "x = list(range(len(loss_train)))\n",
        "k=0\n",
        "\n",
        "sns.set(rc={'figure.figsize':(12,8)})\n",
        "sns.set(font_scale = 1.5)\n",
        "\n",
        "plt.plot(x[-k:], loss_train[-k:], 'r', label=\"Train\")\n",
        "plt.plot(x[-k:], loss_valid[-k:], 'g', label=\"Validation\")\n",
        "plt.title('Learning curves')\n",
        "plt.xlabel('Epoch')\n",
        "plt.ylabel('MSE')\n",
        "leg = plt.legend(loc='best', shadow=True, fancybox=True)"
      ],
      "metadata": {
        "colab": {
          "base_uri": "https://localhost:8080/",
          "height": 535
        },
        "id": "V_DCygpj46GZ",
        "outputId": "4e5a430a-d8d9-41b4-bd3f-896218976040"
      },
      "execution_count": null,
      "outputs": [
        {
          "output_type": "display_data",
          "data": {
            "text/plain": [
              "<Figure size 864x576 with 1 Axes>"
            ],
            "image/png": "[encoded data removed]"
          },
          "metadata": {}
        }
      ]
    },
    {
      "cell_type": "markdown",
      "source": [
        "### Test set Loss\n",
        " Evaluating our model's final performance"
      ],
      "metadata": {
        "id": "9taiKqP67Zbw"
      }
    },
    {
      "cell_type": "code",
      "source": [
        "loss(test, P, Q)"
      ],
      "metadata": {
        "colab": {
          "base_uri": "https://localhost:8080/"
        },
        "id": "kEmrB6Sy7Q0u",
        "outputId": "4ea44a43-f66d-4a49-aa93-93886a3916f5"
      },
      "execution_count": null,
      "outputs": [
        {
          "output_type": "execute_result",
          "data": {
            "text/plain": [
              "0.9890661604258375"
            ]
          },
          "metadata": {},
          "execution_count": 21
        }
      ]
    },
    {
      "cell_type": "markdown",
      "source": [
        "##Exploring latent layers"
      ],
      "metadata": {
        "id": "EuH7Ei5A8YkA"
      }
    },
    {
      "cell_type": "markdown",
      "source": [
        "It is possible to explore the various latent variables/factors associated with users and items. By the nature of the matrices $\\mathbf{P}$ and $\\mathbf{Q}$, we can explore the <i>k</i> latent variables/factors by looking at the columns of $\\mathbf{P}$ and $\\mathbf{Q}$."
      ],
      "metadata": {
        "id": "mpHDr8-k8cg2"
      }
    },
    {
      "cell_type": "code",
      "source": [
        "def explore(movie_titles, item_factor_matrix, frequency_mask, factor_idx, k):\n",
        "    \"\"\"\n",
        "    Args:\n",
        "       movie_titles: Pandas Series containing movie titles\n",
        "        item_factor_matrix: matrix containing the model parameters for movies \n",
        "        frequency_mask: boolean array masking non-frequent movies\n",
        "        factor_idx: index of the latent variable\n",
        "        k: number of movies to show\n",
        "\n",
        "    Returns:\n",
        "        names: movie titles\n",
        "        scores: associated score of movies on a particular factor\n",
        "    \"\"\"\n",
        "\n",
        "    # slice the column to obtain latent variable, then apply mask\n",
        "    latent_variable = item_factor_matrix[:, factor_idx] * frequency_mask\n",
        "\n",
        "    # filter out infrequent movies\n",
        "    nonzero_indices = np.nonzero(latent_variable)\n",
        "    movies = np.array(movie_titles)[nonzero_indices][:k]\n",
        "    latent_variable = latent_variable[nonzero_indices][:k]\n",
        "\n",
        "    return movies, latent_variable\n"
      ],
      "metadata": {
        "id": "_x2fmEN47rda"
      },
      "execution_count": null,
      "outputs": []
    },
    {
      "cell_type": "markdown",
      "source": [
        "Let's now go ahead and use this function to visualize the results. We will do this while only considering movies that have been watched by at least 10% of all users. To do this, let's use the movie_popularity list we created earlier."
      ],
      "metadata": {
        "id": "YSAmK91y9m32"
      }
    },
    {
      "cell_type": "code",
      "source": [
        "print(movie_popularity)\n",
        "print(movie_popularity.shape)"
      ],
      "metadata": {
        "colab": {
          "base_uri": "https://localhost:8080/"
        },
        "id": "IWtoag8v-Qw0",
        "outputId": "e4c70177-07cb-4e46-89b0-ad6e7a245046"
      },
      "execution_count": null,
      "outputs": [
        {
          "output_type": "stream",
          "name": "stdout",
          "text": [
            "[0.40615058 0.11134677 0.0795334  ... 0.00106045 0.00106045 0.00106045]\n",
            "(1682,)\n"
          ]
        }
      ]
    },
    {
      "cell_type": "code",
      "source": [
        "k = 5\n",
        "factor_idx = 0\n",
        "threshold = 0.1         # considering movies watched by at least 10% of all users\n",
        "names, scores = explore(movies['Title'], Q, np.where(movie_popularity > threshold, 1, 0), factor_idx, k)\n",
        "\n",
        "df = pd.DataFrame(np.matrix((names, scores)).T, (np.arange(len(scores)) + 1).tolist())\n",
        "df.columns = ['Title', 'Latent factor']\n",
        "df"
      ],
      "metadata": {
        "colab": {
          "base_uri": "https://localhost:8080/",
          "height": 206
        },
        "id": "qBTYX_rb9nfD",
        "outputId": "72ce282f-e726-449f-ba70-960bd59c4402"
      },
      "execution_count": null,
      "outputs": [
        {
          "output_type": "execute_result",
          "data": {
            "text/plain": [
              "                   Title Latent factor\n",
              "1       Toy Story (1995)      1.550587\n",
              "2       GoldenEye (1995)      0.371499\n",
              "3      Get Shorty (1995)      0.642945\n",
              "4  Twelve Monkeys (1995)      1.588772\n",
              "5            Babe (1995)      1.627767"
            ],
            "text/html": [
              "\n",
              "  <div id=\"df-1211a409-d56f-4b7b-b97c-a1e40d40e6bf\">\n",
              "    <div class=\"colab-df-container\">\n",
              "      <div>\n",
              "<style scoped>\n",
              "    .dataframe tbody tr th:only-of-type {\n",
              "        vertical-align: middle;\n",
              "    }\n",
              "\n",
              "    .dataframe tbody tr th {\n",
              "        vertical-align: top;\n",
              "    }\n",
              "\n",
              "    .dataframe thead th {\n",
              "        text-align: right;\n",
              "    }\n",
              "</style>\n",
              "<table border=\"1\" class=\"dataframe\">\n",
              "  <thead>\n",
              "    <tr style=\"text-align: right;\">\n",
              "      <th></th>\n",
              "      <th>Title</th>\n",
              "      <th>Latent factor</th>\n",
              "    </tr>\n",
              "  </thead>\n",
              "  <tbody>\n",
              "    <tr>\n",
              "      <th>1</th>\n",
              "      <td>Toy Story (1995)</td>\n",
              "      <td>1.550587</td>\n",
              "    </tr>\n",
              "    <tr>\n",
              "      <th>2</th>\n",
              "      <td>GoldenEye (1995)</td>\n",
              "      <td>0.371499</td>\n",
              "    </tr>\n",
              "    <tr>\n",
              "      <th>3</th>\n",
              "      <td>Get Shorty (1995)</td>\n",
              "      <td>0.642945</td>\n",
              "    </tr>\n",
              "    <tr>\n",
              "      <th>4</th>\n",
              "      <td>Twelve Monkeys (1995)</td>\n",
              "      <td>1.588772</td>\n",
              "    </tr>\n",
              "    <tr>\n",
              "      <th>5</th>\n",
              "      <td>Babe (1995)</td>\n",
              "      <td>1.627767</td>\n",
              "    </tr>\n",
              "  </tbody>\n",
              "</table>\n",
              "</div>\n",
              "      <button class=\"colab-df-convert\" onclick=\"convertToInteractive('df-1211a409-d56f-4b7b-b97c-a1e40d40e6bf')\"\n",
              "              title=\"Convert this dataframe to an interactive table.\"\n",
              "              style=\"display:none;\">\n",
              "        \n",
              "  <svg xmlns=\"http://www.w3.org/2000/svg\" height=\"24px\"viewBox=\"0 0 24 24\"\n",
              "       width=\"24px\">\n",
              "    <path d=\"M0 0h24v24H0V0z\" fill=\"none\"/>\n",
              "    <path d=\"M18.56 5.44l.94 2.06.94-2.06 2.06-.94-2.06-.94-.94-2.06-.94 2.06-2.06.94zm-11 1L8.5 8.5l.94-2.06 2.06-.94-2.06-.94L8.5 2.5l-.94 2.06-2.06.94zm10 10l.94 2.06.94-2.06 2.06-.94-2.06-.94-.94-2.06-.94 2.06-2.06.94z\"/><path d=\"M17.41 7.96l-1.37-1.37c-.4-.4-.92-.59-1.43-.59-.52 0-1.04.2-1.43.59L10.3 9.45l-7.72 7.72c-.78.78-.78 2.05 0 2.83L4 21.41c.39.39.9.59 1.41.59.51 0 1.02-.2 1.41-.59l7.78-7.78 2.81-2.81c.8-.78.8-2.07 0-2.86zM5.41 20L4 18.59l7.72-7.72 1.47 1.35L5.41 20z\"/>\n",
              "  </svg>\n",
              "      </button>\n",
              "      \n",
              "  <style>\n",
              "    .colab-df-container {\n",
              "      display:flex;\n",
              "      flex-wrap:wrap;\n",
              "      gap: 12px;\n",
              "    }\n",
              "\n",
              "    .colab-df-convert {\n",
              "      background-color: #E8F0FE;\n",
              "      border: none;\n",
              "      border-radius: 50%;\n",
              "      cursor: pointer;\n",
              "      display: none;\n",
              "      fill: #1967D2;\n",
              "      height: 32px;\n",
              "      padding: 0 0 0 0;\n",
              "      width: 32px;\n",
              "    }\n",
              "\n",
              "    .colab-df-convert:hover {\n",
              "      background-color: #E2EBFA;\n",
              "      box-shadow: 0px 1px 2px rgba(60, 64, 67, 0.3), 0px 1px 3px 1px rgba(60, 64, 67, 0.15);\n",
              "      fill: #174EA6;\n",
              "    }\n",
              "\n",
              "    [theme=dark] .colab-df-convert {\n",
              "      background-color: #3B4455;\n",
              "      fill: #D2E3FC;\n",
              "    }\n",
              "\n",
              "    [theme=dark] .colab-df-convert:hover {\n",
              "      background-color: #434B5C;\n",
              "      box-shadow: 0px 1px 3px 1px rgba(0, 0, 0, 0.15);\n",
              "      filter: drop-shadow(0px 1px 2px rgba(0, 0, 0, 0.3));\n",
              "      fill: #FFFFFF;\n",
              "    }\n",
              "  </style>\n",
              "\n",
              "      <script>\n",
              "        const buttonEl =\n",
              "          document.querySelector('#df-1211a409-d56f-4b7b-b97c-a1e40d40e6bf button.colab-df-convert');\n",
              "        buttonEl.style.display =\n",
              "          google.colab.kernel.accessAllowed ? 'block' : 'none';\n",
              "\n",
              "        async function convertToInteractive(key) {\n",
              "          const element = document.querySelector('#df-1211a409-d56f-4b7b-b97c-a1e40d40e6bf');\n",
              "          const dataTable =\n",
              "            await google.colab.kernel.invokeFunction('convertToInteractive',\n",
              "                                                     [key], {});\n",
              "          if (!dataTable) return;\n",
              "\n",
              "          const docLinkHtml = 'Like what you see? Visit the ' +\n",
              "            '<a target=\"_blank\" href=https://colab.research.google.com/notebooks/data_table.ipynb>data table notebook</a>'\n",
              "            + ' to learn more about interactive tables.';\n",
              "          element.innerHTML = '';\n",
              "          dataTable['output_type'] = 'display_data';\n",
              "          await google.colab.output.renderOutput(dataTable, element);\n",
              "          const docLink = document.createElement('div');\n",
              "          docLink.innerHTML = docLinkHtml;\n",
              "          element.appendChild(docLink);\n",
              "        }\n",
              "      </script>\n",
              "    </div>\n",
              "  </div>\n",
              "  "
            ]
          },
          "metadata": {},
          "execution_count": 24
        }
      ]
    },
    {
      "cell_type": "markdown",
      "source": [
        "# Applications\n",
        "We can now put our model to use and generate personalized recommendations for users.\n",
        "\n",
        "We will choose a given user, and consider his/her preferences. Then we will generate recommendations for him/her using our trained matrix factorization model with the caveat in mind that we only want to recommend movies that he/she has not seen in the past.\n",
        " "
      ],
      "metadata": {
        "id": "gIIprFZIAa9S"
      }
    },
    {
      "cell_type": "code",
      "source": [
        "def rank_top_k(movie_names, ratings, k=10):\n",
        "   \"\"\"\n",
        "   Args:\n",
        "        movie_names: names of all movies in our dataset\n",
        "        ratings: estimated ratings on movies not seen by a user\n",
        "\n",
        "   Returns:\n",
        "        top k recommended movies and corresponding estimated scores by the user\n",
        "        \n",
        "   Example:\n",
        "   a, b = np.array(['a', 'b', 'c']), np.array([6, 1, 3])\n",
        "   a, b = rank_top_k(a, b, k=2)\n",
        "   >>> a\n",
        "   np.array('a', 'c')\n",
        "   >>> b\n",
        "   np.array([6, 3])\n",
        "   \"\"\"\n",
        " \n",
        "   # rank indices in descending order\n",
        "   ranked_ids = np.argsort(ratings)[::-1]\n",
        " \n",
        "   return movie_names[ranked_ids][:k], ratings[ranked_ids][:k]"
      ],
      "metadata": {
        "id": "j2tDCEgY_Hlu"
      },
      "execution_count": null,
      "outputs": []
    },
    {
      "cell_type": "code",
      "source": [
        "user_id = 14\n",
        "top_k = 10\n",
        "\n",
        "# Step 1: Define the user's preferences using the training set.\n",
        "user_train = np.array(train[0][user_id])\n",
        "\n",
        "\n",
        "# Step 2: Define what movies the user has not seen yet.\n",
        "# We will only generate recommendations for these movies, so make sure we store this in an awway equal to the number of all movies.\n",
        "movies_not_seen = np.where(user_train == 0, 1, 0)\n",
        "\n",
        "# Step 3: Predict the user's ratings across all movies.\n",
        "estimates = np.dot(P[user_id, :], Q.T)\n",
        "\n",
        "\n",
        "# Step 4: Consider the estimated ratings for movies that were not seen by the user.\n",
        "unseen_movie_estimates = estimates * movies_not_seen\n",
        "\n",
        "# Step 5: Retrieve the top k recommendations for that user.\n",
        "recommendations, scores = rank_top_k(np.array(movies['Title']), unseen_movie_estimates, k=top_k)\n",
        "\n",
        "\n",
        "# Step 6: Show the title and associated latent feature of the recommendations\n",
        "df = pd.DataFrame(np.matrix((recommendations, scores)).T, (np.arange(10) + 1).tolist(), \n",
        "                  columns=['Title', 'Predicted rating'])\n",
        "df\n"
      ],
      "metadata": {
        "colab": {
          "base_uri": "https://localhost:8080/",
          "height": 363
        },
        "id": "FAkiqwEGBrVS",
        "outputId": "376e5abc-ce67-4261-cdff-c17f4141410a"
      },
      "execution_count": null,
      "outputs": [
        {
          "output_type": "execute_result",
          "data": {
            "text/plain": [
              "                                Title Predicted rating\n",
              "1              Pather Panchali (1955)         4.094992\n",
              "2        To Kill a Mockingbird (1962)         4.037752\n",
              "3             Schindler's List (1993)         3.929409\n",
              "4   E.T. the Extra-Terrestrial (1982)         3.896012\n",
              "5            Good Will Hunting (1997)         3.854905\n",
              "6                        Fargo (1996)         3.807921\n",
              "7        Love in the Afternoon (1957)         3.780029\n",
              "8         Fried Green Tomatoes (1991)         3.764348\n",
              "9            Wizard of Oz, The (1939)         3.762431\n",
              "10         Wrong Trousers, The (1993)         3.756625"
            ],
            "text/html": [
              "\n",
              "  <div id=\"df-de57c341-f981-49f2-9553-7cedfffeab38\">\n",
              "    <div class=\"colab-df-container\">\n",
              "      <div>\n",
              "<style scoped>\n",
              "    .dataframe tbody tr th:only-of-type {\n",
              "        vertical-align: middle;\n",
              "    }\n",
              "\n",
              "    .dataframe tbody tr th {\n",
              "        vertical-align: top;\n",
              "    }\n",
              "\n",
              "    .dataframe thead th {\n",
              "        text-align: right;\n",
              "    }\n",
              "</style>\n",
              "<table border=\"1\" class=\"dataframe\">\n",
              "  <thead>\n",
              "    <tr style=\"text-align: right;\">\n",
              "      <th></th>\n",
              "      <th>Title</th>\n",
              "      <th>Predicted rating</th>\n",
              "    </tr>\n",
              "  </thead>\n",
              "  <tbody>\n",
              "    <tr>\n",
              "      <th>1</th>\n",
              "      <td>Pather Panchali (1955)</td>\n",
              "      <td>4.094992</td>\n",
              "    </tr>\n",
              "    <tr>\n",
              "      <th>2</th>\n",
              "      <td>To Kill a Mockingbird (1962)</td>\n",
              "      <td>4.037752</td>\n",
              "    </tr>\n",
              "    <tr>\n",
              "      <th>3</th>\n",
              "      <td>Schindler's List (1993)</td>\n",
              "      <td>3.929409</td>\n",
              "    </tr>\n",
              "    <tr>\n",
              "      <th>4</th>\n",
              "      <td>E.T. the Extra-Terrestrial (1982)</td>\n",
              "      <td>3.896012</td>\n",
              "    </tr>\n",
              "    <tr>\n",
              "      <th>5</th>\n",
              "      <td>Good Will Hunting (1997)</td>\n",
              "      <td>3.854905</td>\n",
              "    </tr>\n",
              "    <tr>\n",
              "      <th>6</th>\n",
              "      <td>Fargo (1996)</td>\n",
              "      <td>3.807921</td>\n",
              "    </tr>\n",
              "    <tr>\n",
              "      <th>7</th>\n",
              "      <td>Love in the Afternoon (1957)</td>\n",
              "      <td>3.780029</td>\n",
              "    </tr>\n",
              "    <tr>\n",
              "      <th>8</th>\n",
              "      <td>Fried Green Tomatoes (1991)</td>\n",
              "      <td>3.764348</td>\n",
              "    </tr>\n",
              "    <tr>\n",
              "      <th>9</th>\n",
              "      <td>Wizard of Oz, The (1939)</td>\n",
              "      <td>3.762431</td>\n",
              "    </tr>\n",
              "    <tr>\n",
              "      <th>10</th>\n",
              "      <td>Wrong Trousers, The (1993)</td>\n",
              "      <td>3.756625</td>\n",
              "    </tr>\n",
              "  </tbody>\n",
              "</table>\n",
              "</div>\n",
              "      <button class=\"colab-df-convert\" onclick=\"convertToInteractive('df-de57c341-f981-49f2-9553-7cedfffeab38')\"\n",
              "              title=\"Convert this dataframe to an interactive table.\"\n",
              "              style=\"display:none;\">\n",
              "        \n",
              "  <svg xmlns=\"http://www.w3.org/2000/svg\" height=\"24px\"viewBox=\"0 0 24 24\"\n",
              "       width=\"24px\">\n",
              "    <path d=\"M0 0h24v24H0V0z\" fill=\"none\"/>\n",
              "    <path d=\"M18.56 5.44l.94 2.06.94-2.06 2.06-.94-2.06-.94-.94-2.06-.94 2.06-2.06.94zm-11 1L8.5 8.5l.94-2.06 2.06-.94-2.06-.94L8.5 2.5l-.94 2.06-2.06.94zm10 10l.94 2.06.94-2.06 2.06-.94-2.06-.94-.94-2.06-.94 2.06-2.06.94z\"/><path d=\"M17.41 7.96l-1.37-1.37c-.4-.4-.92-.59-1.43-.59-.52 0-1.04.2-1.43.59L10.3 9.45l-7.72 7.72c-.78.78-.78 2.05 0 2.83L4 21.41c.39.39.9.59 1.41.59.51 0 1.02-.2 1.41-.59l7.78-7.78 2.81-2.81c.8-.78.8-2.07 0-2.86zM5.41 20L4 18.59l7.72-7.72 1.47 1.35L5.41 20z\"/>\n",
              "  </svg>\n",
              "      </button>\n",
              "      \n",
              "  <style>\n",
              "    .colab-df-container {\n",
              "      display:flex;\n",
              "      flex-wrap:wrap;\n",
              "      gap: 12px;\n",
              "    }\n",
              "\n",
              "    .colab-df-convert {\n",
              "      background-color: #E8F0FE;\n",
              "      border: none;\n",
              "      border-radius: 50%;\n",
              "      cursor: pointer;\n",
              "      display: none;\n",
              "      fill: #1967D2;\n",
              "      height: 32px;\n",
              "      padding: 0 0 0 0;\n",
              "      width: 32px;\n",
              "    }\n",
              "\n",
              "    .colab-df-convert:hover {\n",
              "      background-color: #E2EBFA;\n",
              "      box-shadow: 0px 1px 2px rgba(60, 64, 67, 0.3), 0px 1px 3px 1px rgba(60, 64, 67, 0.15);\n",
              "      fill: #174EA6;\n",
              "    }\n",
              "\n",
              "    [theme=dark] .colab-df-convert {\n",
              "      background-color: #3B4455;\n",
              "      fill: #D2E3FC;\n",
              "    }\n",
              "\n",
              "    [theme=dark] .colab-df-convert:hover {\n",
              "      background-color: #434B5C;\n",
              "      box-shadow: 0px 1px 3px 1px rgba(0, 0, 0, 0.15);\n",
              "      filter: drop-shadow(0px 1px 2px rgba(0, 0, 0, 0.3));\n",
              "      fill: #FFFFFF;\n",
              "    }\n",
              "  </style>\n",
              "\n",
              "      <script>\n",
              "        const buttonEl =\n",
              "          document.querySelector('#df-de57c341-f981-49f2-9553-7cedfffeab38 button.colab-df-convert');\n",
              "        buttonEl.style.display =\n",
              "          google.colab.kernel.accessAllowed ? 'block' : 'none';\n",
              "\n",
              "        async function convertToInteractive(key) {\n",
              "          const element = document.querySelector('#df-de57c341-f981-49f2-9553-7cedfffeab38');\n",
              "          const dataTable =\n",
              "            await google.colab.kernel.invokeFunction('convertToInteractive',\n",
              "                                                     [key], {});\n",
              "          if (!dataTable) return;\n",
              "\n",
              "          const docLinkHtml = 'Like what you see? Visit the ' +\n",
              "            '<a target=\"_blank\" href=https://colab.research.google.com/notebooks/data_table.ipynb>data table notebook</a>'\n",
              "            + ' to learn more about interactive tables.';\n",
              "          element.innerHTML = '';\n",
              "          dataTable['output_type'] = 'display_data';\n",
              "          await google.colab.output.renderOutput(dataTable, element);\n",
              "          const docLink = document.createElement('div');\n",
              "          docLink.innerHTML = docLinkHtml;\n",
              "          element.appendChild(docLink);\n",
              "        }\n",
              "      </script>\n",
              "    </div>\n",
              "  </div>\n",
              "  "
            ]
          },
          "metadata": {},
          "execution_count": 26
        }
      ]
    }
  ]
}